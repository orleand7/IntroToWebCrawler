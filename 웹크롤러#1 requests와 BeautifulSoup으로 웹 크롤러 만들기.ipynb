{
 "cells": [
  {
   "cell_type": "markdown",
   "metadata": {},
   "source": [
    "request와 BeautifulSoup으로 웹크롤러 만들기\n",
    "=="
   ]
  },
  {
   "cell_type": "markdown",
   "metadata": {},
   "source": [
    "request와 BeautifulSoup을 통해서 뉴욕타임즈의 세계 뉴스 항목을 가져와 보겠습니다."
   ]
  },
  {
   "cell_type": "code",
   "execution_count": 1,
   "metadata": {},
   "outputs": [],
   "source": [
    "# parser.py\n",
    "import requests\n",
    "\n",
    "# HTTP GET Request\n",
    "req = requests.get('https://namu.wiki/w/%EB%82%98%EB%AC%B4%EC%9C%84%ED%82%A4:%EB%8C%80%EB%AC%B8')\n",
    "\n",
    "# HTML 소스 가져오기\n",
    "html = req.text\n",
    "# HTTP Header 가져오기\n",
    "header = req.headers\n",
    "# HTTP Status 가져오기 (200: 정상)\n",
    "status = req.status_code\n",
    "# HTTP가 정상적으로 되었는지 (True/False)\n",
    "is_ok=req.ok"
   ]
  },
  {
   "cell_type": "markdown",
   "metadata": {},
   "source": [
    "Requests 라이브러리로 HTML을 가져올 수는 있지만 이것만으로 html을 파이썬이 이해하는 객체 구조로 만들어주지는 않습니다. 또한 req.text는 파이썬의 문자열(str) 객체를 변환할 뿐이기에 정보를 추출하기는 어렵습니다.\n",
    "\n",
    "그러므로 BeautifulSoup를 이용하는 것이며, BS는 html 코드를 파이썬이 이해하는 객체구조로 변환하는 \"Parsing\"이라는 작업을 해주므로, \"의미있는\" 정보추출에 효과적입니다.\n",
    "\n",
    "고로 밑은 BS를 이용하여 Parser.py를 좀더 가다듬어 보겠습니다."
   ]
  },
  {
   "cell_type": "code",
   "execution_count": 2,
   "metadata": {},
   "outputs": [],
   "source": [
    "# parser.py\n",
    "import requests\n",
    "from bs4 import BeautifulSoup\n",
    "\n",
    "# HTTP GET Request\n",
    "req = requests.get('https://www.nytimes.com/section/world')\n",
    "\n",
    "# HTML 소스 가져오기\n",
    "html = req.text\n",
    "# BeautifulSoup으로 html 소스를 파이썬 객체로 변환합니다.\n",
    "#첫 인자는 html 소스코드이며, 두번째 인자는 어느 parser를 이용하는지 명시합니다.\n",
    "#여기서는 파이썬 내장 html.parser를 이용해봅시다.\n",
    "soup = BeautifulSoup(html, 'html.parser')"
   ]
  },
  {
   "cell_type": "markdown",
   "metadata": {},
   "source": [
    "이제 soup 객체에서 원하는 정보를 찾아낼 수 있게 되었습니다.\n",
    "\n",
    "BeautifulSoup는 여러가지 기능을 제공하는데 그중 하나는 select입니다.\n",
    "select는 CSS Selector를 이용해 조건에 일치하는 객체들을 List로 반환해 줍니다.\n",
    "\n",
    "https://www.nytimes.com/section/world\n",
    "\n",
    "위 주소에서 뉴스 기사 제목인 \"Within Venezuelan Military Ranks, a Struggle Over What Leader to Back\"에 오른쪽 클릭을 한후 검사(inspect)를 누르면 오른쪽에 검사도구가 나오는것을 알 수 있습니다.\n",
    "\n",
    "원하는 부분을 오른쪽 클릭 > Copy > Copy Selecter를 통해 복사하고 붙여 넣어보면 다음과 같이 나오는걸 알 수 있습니다.\n",
    "\n",
    "#collection-world > div.rank > section.highlights.highlights-collection-package.collection-package.collection > div.rank-template.featured-rank-template.template-2 > ol > li:nth-child(1) > article > div > h2 > a\n",
    "\n",
    "하지만 :nth-child(1) 등이 붙어있는 것으로 보아 현재 요소를 '정확하게' 특정하고 있기 때문에, 좀 더 유연하게 만들어 주기 위해 아래와 같이 selector를 바꿔줍니다.(위 코드는 단 하나의 링크만을 특정하고, 아래 코드는 css selector에 일치하는 모든 요소를 가리킵니다.)\n",
    "\n",
    "h2 > a"
   ]
  },
  {
   "cell_type": "code",
   "execution_count": 3,
   "metadata": {},
   "outputs": [],
   "source": [
    "## parser.py\n",
    "import requests\n",
    "from bs4 import BeautifulSoup\n",
    "\n",
    "req = requests.get('https://www.nytimes.com/section/world')\n",
    "html = req.text\n",
    "soup = BeautifulSoup(html, 'html.parser')\n",
    "## CSS Selector를 통해 html요소들을 찾아낸다.\n",
    "my_titles = soup.select(\n",
    "    'h2 > a'\n",
    "    )"
   ]
  },
  {
   "cell_type": "code",
   "execution_count": 10,
   "metadata": {},
   "outputs": [
    {
     "name": "stdout",
     "output_type": "stream",
     "text": [
      "\n",
      "The New York Times\n",
      "\n",
      "Within Venezuelan Military Ranks, a Struggle Over What Leader to Back\n",
      "Mexico Moves to Encourage Caravan Migrants to Stay and Work\n",
      "7 People Killed and 200 Missing in Brazil After Dam Collapses, Officials Say\n",
      "New Taliban Negotiator Seen as Sign That This Time, Afghan Peace Talks Are Serious\n",
      "Did the Queen Just Weigh In on Brexit?\n",
      "Arrests in Terror Plot Raise Questions About Canada’s Refugee Embrace\n",
      "Venezuela’s Opposition Leader Calls for More Protests ‘if They Dare to Kidnap Me’\n",
      "U.N. Execution Expert Will Investigate Khashoggi Killing\n",
      "Greeks Approve Deal to Rename Macedonia, in Victory for the West\n",
      "Huge Trove of Leaked Russian Documents Is Published by Transparency Advocates\n",
      "Mexico Protests U.S. Decision to Return Asylum Seekers\n",
      "‘Individual Plaintiff’ Brought Case Against Imprisoned Navy Veteran, Iran Says\n",
      "Across Australia, Yet Another Scorching Summer\n",
      "This Old Basque Soldier Expected to Die 80 Years Ago\n",
      "Dispatches\n",
      "Cambodia Ruler’s Recipe for Youth Appeal? An 8,900-Pound Rice Cake\n",
      "In the Heart of Beijing, a Taiwanese Pop Idol Makes Fans Swoon\n",
      "Amid Border Strife, Mexico Beach Town Asks: Where Have All the Tourists Gone?\n",
      "Serbians Are Fighting to Keep Democracy Alive as the Country Takes an Authoritarian Turn\n",
      "As Migrants Risk Crossing the English Channel, French Fishing Boats Pay a Price\n",
      "China’s Reach\n",
      "It Doesn’t Matter if Ecuador Can Afford This Dam. China Still Gets Paid.\n",
      "China’s ‘Belt and Road’ Plan in Pakistan Takes a Military Turn\n",
      "A Chinese Tycoon Sought Power and Influence. Washington Responded.\n",
      "China’s Tactic to Catch a Fugitive Official: Hold His Two American Children\n",
      "China’s Sea Control Is a Done Deal, ‘Short of War With the U.S.’\n",
      "\n",
      "The New York Times\n",
      "\n"
     ]
    }
   ],
   "source": [
    "## 이제 뉴스기사 제목을 가져와 봅시다.\n",
    "\n",
    "## parser.py\n",
    "import requests\n",
    "from bs4 import BeautifulSoup\n",
    "\n",
    "req = requests.get('https://www.nytimes.com/section/world')\n",
    "html = req.text\n",
    "soup = BeautifulSoup(html, 'html.parser')\n",
    "my_titles = soup.select(\n",
    "    'h2 > a'\n",
    "    )\n",
    "## my_titles는 list 객체\n",
    "for title in my_titles:\n",
    "    ## Tag안의 텍스트\n",
    "    print(title.text)"
   ]
  },
  {
   "cell_type": "code",
   "execution_count": 11,
   "metadata": {},
   "outputs": [
    {
     "name": "stdout",
     "output_type": "stream",
     "text": [
      "\n",
      "The New York Times\n",
      "\n",
      "https://www.nytimes.com/\n",
      "Within Venezuelan Military Ranks, a Struggle Over What Leader to Back\n",
      "https://www.nytimes.com/2019/01/25/world/americas/venezuela-military-maduro.html\n",
      "Mexico Moves to Encourage Caravan Migrants to Stay and Work\n",
      "https://www.nytimes.com/2019/01/25/world/americas/migrant-caravan-honduras-mexico.html\n",
      "7 People Killed and 200 Missing in Brazil After Dam Collapses, Officials Say\n",
      "https://www.nytimes.com/2019/01/25/world/americas/brazil-dam-burst-brumadinho.html\n",
      "New Taliban Negotiator Seen as Sign That This Time, Afghan Peace Talks Are Serious\n",
      "https://www.nytimes.com/2019/01/25/world/asia/taliban-negotiator-afghanistan.html\n",
      "Did the Queen Just Weigh In on Brexit?\n",
      "https://www.nytimes.com/2019/01/25/world/europe/queen-elizabeth-brexit-britain.html\n",
      "Arrests in Terror Plot Raise Questions About Canada’s Refugee Embrace\n",
      "https://www.nytimes.com/2019/01/25/world/canada/terror-plot-arrests-refugees.html\n",
      "Venezuela’s Opposition Leader Calls for More Protests ‘if They Dare to Kidnap Me’\n",
      "https://www.nytimes.com/2019/01/25/world/americas/venezuela-news-protests-noticias.html\n",
      "U.N. Execution Expert Will Investigate Khashoggi Killing\n",
      "https://www.nytimes.com/2019/01/25/world/middleeast/un-jamal-khashoggi-saudi-arabia.html\n",
      "Greeks Approve Deal to Rename Macedonia, in Victory for the West\n",
      "https://www.nytimes.com/2019/01/25/world/europe/greece-macedonia-name-change-protests.html\n",
      "Huge Trove of Leaked Russian Documents Is Published by Transparency Advocates\n",
      "https://www.nytimes.com/2019/01/25/world/europe/russian-documents-leaked-ddosecrets.html\n",
      "Mexico Protests U.S. Decision to Return Asylum Seekers\n",
      "https://www.nytimes.com/2019/01/25/world/americas/mexico-asylum-seekers.html\n",
      "‘Individual Plaintiff’ Brought Case Against Imprisoned Navy Veteran, Iran Says\n",
      "https://www.nytimes.com/2019/01/25/world/middleeast/iran-prisoner-michael-r-white.html\n",
      "Across Australia, Yet Another Scorching Summer\n",
      "https://www.nytimes.com/2019/01/25/world/australia/heat-wave-horses.html\n",
      "This Old Basque Soldier Expected to Die 80 Years Ago\n",
      "https://www.nytimes.com/2019/01/25/world/europe/basque-spanish-civil-war-franco.html\n",
      "Dispatches\n",
      "https://www.nytimes.com/spotlight/dispatches-international\n",
      "Cambodia Ruler’s Recipe for Youth Appeal? An 8,900-Pound Rice Cake\n",
      "https://www.nytimes.com/2019/01/23/world/asia/cambodia-hun-sen-world-records.html\n",
      "In the Heart of Beijing, a Taiwanese Pop Idol Makes Fans Swoon\n",
      "https://www.nytimes.com/2019/01/21/world/asia/teresa-teng-china-beijing-taiwan.html\n",
      "Amid Border Strife, Mexico Beach Town Asks: Where Have All the Tourists Gone?\n",
      "https://www.nytimes.com/2019/01/19/world/americas/rosarito-mexico-border-migrant-caravan.html\n",
      "Serbians Are Fighting to Keep Democracy Alive as the Country Takes an Authoritarian Turn\n",
      "https://www.nytimes.com/video/world/europe/100000006309082/serbia-democracy-protest-putin.html\n",
      "As Migrants Risk Crossing the English Channel, French Fishing Boats Pay a Price\n",
      "https://www.nytimes.com/2019/01/13/world/europe/france-english-channel-migrants.html\n",
      "China’s Reach\n",
      "https://www.nytimes.com/spotlight/china-reach\n",
      "It Doesn’t Matter if Ecuador Can Afford This Dam. China Still Gets Paid.\n",
      "https://www.nytimes.com/2018/12/24/world/americas/ecuador-china-dam.html\n",
      "China’s ‘Belt and Road’ Plan in Pakistan Takes a Military Turn\n",
      "https://www.nytimes.com/2018/12/19/world/asia/pakistan-china-belt-road-military.html\n",
      "A Chinese Tycoon Sought Power and Influence. Washington Responded.\n",
      "https://www.nytimes.com/2018/12/12/business/cefc-biden-china-washington-ye-jianming.html\n",
      "China’s Tactic to Catch a Fugitive Official: Hold His Two American Children\n",
      "https://www.nytimes.com/2018/11/25/us/politics/china-exit-ban.html\n",
      "China’s Sea Control Is a Done Deal, ‘Short of War With the U.S.’\n",
      "https://www.nytimes.com/2018/09/20/world/asia/south-china-sea-navy.html\n",
      "\n",
      "The New York Times\n",
      "\n",
      "https://www.nytimes.com/\n"
     ]
    }
   ],
   "source": [
    "#응용으로 뉴스기사 제목과 해당 제목의 주소를 가져와 봅시다.\n",
    "\n",
    "## parser.py\n",
    "import requests\n",
    "from bs4 import BeautifulSoup\n",
    "\n",
    "req = requests.get('https://www.nytimes.com/section/world')\n",
    "html = req.text\n",
    "soup = BeautifulSoup(html, 'html.parser')\n",
    "my_titles = soup.select(\n",
    "    'h2 > a'\n",
    "    )\n",
    "## my_titles는 list 객체\n",
    "for title in my_titles:\n",
    "    ## Tag안의 텍스트\n",
    "    print(title.text)\n",
    "    ## Tag의 속성을 가져오기(ex: href속성)\n",
    "    print(title.get('href')) ##주소부분"
   ]
  },
  {
   "cell_type": "code",
   "execution_count": null,
   "metadata": {},
   "outputs": [],
   "source": []
  }
 ],
 "metadata": {
  "kernelspec": {
   "display_name": "Python 3",
   "language": "python",
   "name": "python3"
  },
  "language_info": {
   "codemirror_mode": {
    "name": "ipython",
    "version": 3
   },
   "file_extension": ".py",
   "mimetype": "text/x-python",
   "name": "python",
   "nbconvert_exporter": "python",
   "pygments_lexer": "ipython3",
   "version": "3.7.1"
  }
 },
 "nbformat": 4,
 "nbformat_minor": 2
}
