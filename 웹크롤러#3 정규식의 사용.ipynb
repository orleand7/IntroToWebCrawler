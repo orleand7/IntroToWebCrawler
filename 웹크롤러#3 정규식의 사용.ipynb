{
 "cells": [
  {
   "cell_type": "markdown",
   "metadata": {},
   "source": [
    "정규식 RegEx를 사용해 마인크래프트에 나무 종류의 아이템이 몇 종류가 있는지 세어봅시다."
   ]
  },
  {
   "cell_type": "code",
   "execution_count": 1,
   "metadata": {},
   "outputs": [
    {
     "name": "stdout",
     "output_type": "stream",
     "text": [
      "Wood\n",
      "Wood\n",
      "Wood\n",
      "Wood\n",
      "Wood\n",
      "Wood\n",
      "Wood\n",
      "Wood\n",
      "Wood\n",
      "Wood\n",
      "Wood\n",
      "Wood\n",
      "Wood\n",
      "wood\n",
      "Wood\n",
      "wood\n",
      "Wood\n",
      "Wood\n",
      "wood\n",
      "Wood\n",
      "wood\n",
      "Wood\n",
      "wood\n",
      "Wood\n",
      "wood\n",
      "Wood\n",
      "wood\n",
      "Wood\n",
      "wood\n",
      "Wood\n",
      "wood\n",
      "Wood\n",
      "wood\n",
      "Wood\n",
      "wood\n",
      "Wood\n",
      "wood\n",
      "Wood\n",
      "wood\n",
      "Wood\n",
      "wood\n",
      "Wood\n",
      "Wood\n",
      "Wood\n",
      "Wood\n",
      "wood\n",
      "Wood\n",
      "Wood\n",
      "Wood\n",
      "Wood\n",
      "Wood\n",
      "wood\n",
      "Wood\n",
      "wood\n",
      "Wood\n",
      "wood\n",
      "Wood\n",
      "wood\n",
      "Wood\n",
      "wood\n",
      "wood\n"
     ]
    }
   ],
   "source": [
    "import re\n",
    "#request로 진행합니다\n",
    "import urllib.request\n",
    "\n",
    "#긁어올 웹의 url을 넣습니다\n",
    "url= \"https://minecraft-ids.grahamedgecombe.com/\"\n",
    "html=urllib.request.urlopen(url)\n",
    "html_contents = str(html.read())\n",
    "#찾고 싶은것은 \"wood\"라는 단어가 들어간 아이템이므로, [W][o][o][d]를 넣습니다.\n",
    "#대문자 w여도 문제가 없도론 [Ww][o][o][d]로 해줍니다.\n",
    "wood_results=re.findall(r\"([Ww][o][o][d])\", html_contents)\n",
    "\n",
    "for result in wood_results:\n",
    "    print(result)"
   ]
  },
  {
   "cell_type": "markdown",
   "metadata": {},
   "source": [
    "나무종류 아이템에는 \"Wooden\"이라는 단어도 들어가니, 추가해봅시다."
   ]
  },
  {
   "cell_type": "code",
   "execution_count": 2,
   "metadata": {},
   "outputs": [
    {
     "name": "stdout",
     "output_type": "stream",
     "text": [
      "Wood\n",
      "Wood\n",
      "Wood\n",
      "Wood\n",
      "Wood\n",
      "Wood\n",
      "Wood\n",
      "Wood\n",
      "Wood\n",
      "Wood\n",
      "Wood\n",
      "Wood\n",
      "Wood\n",
      "wood\n",
      "Wood\n",
      "wood\n",
      "Wood\n",
      "Wood\n",
      "wood\n",
      "Wood\n",
      "wood\n",
      "Wood\n",
      "wood\n",
      "Wood\n",
      "wood\n",
      "Wood\n",
      "wood\n",
      "Wood\n",
      "wood\n",
      "Wood\n",
      "wood\n",
      "Wood\n",
      "wood\n",
      "Wood\n",
      "wood\n",
      "Wood\n",
      "wood\n",
      "Wood\n",
      "wood\n",
      "Wood\n",
      "wood\n",
      "Wood\n",
      "Wood\n",
      "Wood\n",
      "Wood\n",
      "wood\n",
      "Wood\n",
      "Wood\n",
      "Wood\n",
      "Wood\n",
      "Wood\n",
      "wood\n",
      "Wood\n",
      "wood\n",
      "Wood\n",
      "wood\n",
      "Wood\n",
      "wood\n",
      "Wood\n",
      "wood\n",
      "wood\n",
      "Wooden\n",
      "Wooden\n",
      "wooden\n",
      "Wooden\n",
      "wooden\n",
      "Wooden\n",
      "wooden\n",
      "wooden\n",
      "wooden\n",
      "wooden\n",
      "wooden\n",
      "wooden\n",
      "wooden\n",
      "wooden\n",
      "wooden\n",
      "wooden\n",
      "wooden\n",
      "wooden\n",
      "Wooden\n",
      "wooden\n",
      "Wooden\n",
      "wooden\n",
      "Wooden\n",
      "wooden\n",
      "Wooden\n",
      "wooden\n",
      "Wooden\n",
      "wooden\n",
      "Wooden\n",
      "wooden\n",
      "wooden\n"
     ]
    }
   ],
   "source": [
    "import re\n",
    "#request로 진행합니다\n",
    "import urllib.request\n",
    "\n",
    "#긁어올 웹의 url을 넣습니다\n",
    "url= \"https://minecraft-ids.grahamedgecombe.com/\"\n",
    "html=urllib.request.urlopen(url)\n",
    "html_contents = str(html.read())\n",
    "#찾고 싶은것은 \"wood\"라는 단어가 들어간 아이템이므로, [W][o][o][d]를 넣습니다.\n",
    "#대문자 w여도 문제가 없도론 [Ww][o][o][d]로 해줍니다.\n",
    "wood_results=re.findall(r\"([Ww][o][o][d])\", html_contents)\n",
    "wooden_results=re.findall(r\"([Ww][o][o][d][e][n])\", html_contents)\n",
    "\n",
    "for result in wood_results:\n",
    "    print(result)\n",
    "\n",
    "for result in wooden_results:\n",
    "    print(result)"
   ]
  },
  {
   "cell_type": "markdown",
   "metadata": {},
   "source": [
    "결과의 수를 세어봅니다."
   ]
  },
  {
   "cell_type": "code",
   "execution_count": 3,
   "metadata": {},
   "outputs": [
    {
     "name": "stdout",
     "output_type": "stream",
     "text": [
      "마인크래프트에 나무로 된 아이템의 수는 :  92 개 입니다\n"
     ]
    }
   ],
   "source": [
    "counting = 0\n",
    "for result in wood_results:\n",
    "    counting+=1\n",
    "for result in wooden_results:\n",
    "    counting+=1\n",
    "print(\"마인크래프트에 나무로 된 아이템의 수는 : \", counting, \"개 입니다\")"
   ]
  },
  {
   "cell_type": "markdown",
   "metadata": {},
   "source": [
    "그외에도 RegEx 나 정규식을 검색하면 다양한 방법의 정규식을 찾을수 있습니다.\n",
    "\n",
    "예시)\n",
    "\n",
    "e-Mail = r\"(^[a-zA-Z0-9_.+-]+@[a-zA-Z0-9-]+\\.[a-zA-Z0-9-.]+$)\"\n",
    "\n",
    "미국식 전화번호 = r\"(^[+]*[(]{0,1}[0-9]{1,4}[)]{0,1}[-\\s\\./0-9]*$)\"\n",
    "등등"
   ]
  },
  {
   "cell_type": "code",
   "execution_count": null,
   "metadata": {},
   "outputs": [],
   "source": []
  }
 ],
 "metadata": {
  "kernelspec": {
   "display_name": "Python 3",
   "language": "python",
   "name": "python3"
  },
  "language_info": {
   "codemirror_mode": {
    "name": "ipython",
    "version": 3
   },
   "file_extension": ".py",
   "mimetype": "text/x-python",
   "name": "python",
   "nbconvert_exporter": "python",
   "pygments_lexer": "ipython3",
   "version": "3.7.1"
  }
 },
 "nbformat": 4,
 "nbformat_minor": 2
}
