{
 "cells": [
  {
   "cell_type": "code",
   "execution_count": 2,
   "metadata": {},
   "outputs": [
    {
     "name": "stdout",
     "output_type": "stream",
     "text": [
      "\n",
      "The New York Times\n",
      "\n",
      "https://www.nytimes.com/\n",
      "Within Venezuelan Military Ranks, a Struggle Over What Leader to Back\n",
      "https://www.nytimes.com/2019/01/25/world/americas/venezuela-military-maduro.html\n",
      "Mexico Moves to Encourage Caravan Migrants to Stay and Work\n",
      "https://www.nytimes.com/2019/01/25/world/americas/migrant-caravan-honduras-mexico.html\n",
      "7 People Killed and 200 Missing in Brazil After Dam Collapses, Officials Say\n",
      "https://www.nytimes.com/2019/01/25/world/americas/brazil-dam-burst-brumadinho.html\n",
      "New Taliban Negotiator Seen as Sign That This Time, Afghan Peace Talks Are Serious\n",
      "https://www.nytimes.com/2019/01/25/world/asia/taliban-negotiator-afghanistan.html\n",
      "Did the Queen Just Weigh In on Brexit?\n",
      "https://www.nytimes.com/2019/01/25/world/europe/queen-elizabeth-brexit-britain.html\n",
      "Arrests in Terror Plot Raise Questions About Canada’s Refugee Embrace\n",
      "https://www.nytimes.com/2019/01/25/world/canada/terror-plot-arrests-refugees.html\n",
      "Venezuela’s Opposition Leader Calls for More Protests ‘if They Dare to Kidnap Me’\n",
      "https://www.nytimes.com/2019/01/25/world/americas/venezuela-news-protests-noticias.html\n",
      "U.N. Execution Expert Will Investigate Khashoggi Killing\n",
      "https://www.nytimes.com/2019/01/25/world/middleeast/un-jamal-khashoggi-saudi-arabia.html\n",
      "Greeks Approve Deal to Rename Macedonia, in Victory for the West\n",
      "https://www.nytimes.com/2019/01/25/world/europe/greece-macedonia-name-change-protests.html\n",
      "Huge Trove of Leaked Russian Documents Is Published by Transparency Advocates\n",
      "https://www.nytimes.com/2019/01/25/world/europe/russian-documents-leaked-ddosecrets.html\n",
      "Mexico Protests U.S. Decision to Return Asylum Seekers\n",
      "https://www.nytimes.com/2019/01/25/world/americas/mexico-asylum-seekers.html\n",
      "‘Individual Plaintiff’ Brought Case Against Imprisoned Navy Veteran, Iran Says\n",
      "https://www.nytimes.com/2019/01/25/world/middleeast/iran-prisoner-michael-r-white.html\n",
      "Across Australia, Yet Another Scorching Summer\n",
      "https://www.nytimes.com/2019/01/25/world/australia/heat-wave-horses.html\n",
      "This Old Basque Soldier Expected to Die 80 Years Ago\n",
      "https://www.nytimes.com/2019/01/25/world/europe/basque-spanish-civil-war-franco.html\n",
      "Dispatches\n",
      "https://www.nytimes.com/spotlight/dispatches-international\n",
      "Cambodia Ruler’s Recipe for Youth Appeal? An 8,900-Pound Rice Cake\n",
      "https://www.nytimes.com/2019/01/23/world/asia/cambodia-hun-sen-world-records.html\n",
      "In the Heart of Beijing, a Taiwanese Pop Idol Makes Fans Swoon\n",
      "https://www.nytimes.com/2019/01/21/world/asia/teresa-teng-china-beijing-taiwan.html\n",
      "Amid Border Strife, Mexico Beach Town Asks: Where Have All the Tourists Gone?\n",
      "https://www.nytimes.com/2019/01/19/world/americas/rosarito-mexico-border-migrant-caravan.html\n",
      "Serbians Are Fighting to Keep Democracy Alive as the Country Takes an Authoritarian Turn\n",
      "https://www.nytimes.com/video/world/europe/100000006309082/serbia-democracy-protest-putin.html\n",
      "As Migrants Risk Crossing the English Channel, French Fishing Boats Pay a Price\n",
      "https://www.nytimes.com/2019/01/13/world/europe/france-english-channel-migrants.html\n",
      "China’s Reach\n",
      "https://www.nytimes.com/spotlight/china-reach\n",
      "It Doesn’t Matter if Ecuador Can Afford This Dam. China Still Gets Paid.\n",
      "https://www.nytimes.com/2018/12/24/world/americas/ecuador-china-dam.html\n",
      "China’s ‘Belt and Road’ Plan in Pakistan Takes a Military Turn\n",
      "https://www.nytimes.com/2018/12/19/world/asia/pakistan-china-belt-road-military.html\n",
      "A Chinese Tycoon Sought Power and Influence. Washington Responded.\n",
      "https://www.nytimes.com/2018/12/12/business/cefc-biden-china-washington-ye-jianming.html\n",
      "China’s Tactic to Catch a Fugitive Official: Hold His Two American Children\n",
      "https://www.nytimes.com/2018/11/25/us/politics/china-exit-ban.html\n",
      "China’s Sea Control Is a Done Deal, ‘Short of War With the U.S.’\n",
      "https://www.nytimes.com/2018/09/20/world/asia/south-china-sea-navy.html\n",
      "\n",
      "The New York Times\n",
      "\n",
      "https://www.nytimes.com/\n"
     ]
    }
   ],
   "source": [
    "#응용으로 뉴스기사 제목과 해당 제목의 주소를 가져와 봅시다.\n",
    "\n",
    "## parser.py\n",
    "import requests\n",
    "from bs4 import BeautifulSoup\n",
    "\n",
    "req = requests.get('https://www.nytimes.com/section/world')\n",
    "html = req.text\n",
    "soup = BeautifulSoup(html, 'html.parser')\n",
    "my_titles = soup.select(\n",
    "    'h2 > a'\n",
    "    )\n",
    "## my_titles는 list 객체\n",
    "for title in my_titles:\n",
    "    ## Tag안의 텍스트\n",
    "    print(title.text)\n",
    "    ## Tag의 속성을 가져오기(ex: href속성)\n",
    "    print(title.get('href')) ##주소부분"
   ]
  },
  {
   "cell_type": "code",
   "execution_count": null,
   "metadata": {},
   "outputs": [],
   "source": []
  }
 ],
 "metadata": {
  "kernelspec": {
   "display_name": "Python 3",
   "language": "python",
   "name": "python3"
  },
  "language_info": {
   "codemirror_mode": {
    "name": "ipython",
    "version": 3
   },
   "file_extension": ".py",
   "mimetype": "text/x-python",
   "name": "python",
   "nbconvert_exporter": "python",
   "pygments_lexer": "ipython3",
   "version": "3.7.1"
  }
 },
 "nbformat": 4,
 "nbformat_minor": 2
}
