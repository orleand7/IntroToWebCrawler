{
 "cells": [
  {
   "cell_type": "markdown",
   "metadata": {},
   "source": [
    "먼저 터미널에서 django를 설치해 줍니다.\n",
    "pip install django\n",
    "\n",
    "설치했다면 django-admin이라는 명령어로 프로젝트를 생성할 수 있습니다.\n",
    "이번엔 websaver라는 이름의 프로젝트를 만들어봅시다.\n",
    "\n",
    "django-admin startproject websaver\n",
    "\n",
    "위 명령어를 치면 명령어를 친 위치에 websaver라는 폴더가 생긴걸 알 수 있습니다.\n",
    "\n",
    "Django는 프로젝트와 그 안의 앱으로 관리됩니다.\n",
    "앱은 manage.py 파일을 통해 startapp이라는 명령어로 생성가능합니다.\n",
    "manage.py가 있는 곳에서 실행합시다.\n",
    "\n",
    "그럼 바로 parsed_data라는 이름의 앱을 만들어봅시다.\n",
    "\n",
    "python manage.py startapp parsed_data\n",
    "\n",
    "이제 이 앱을 Django가 관리핟록 websaver 폴더 안의 setting.py파일의 INSTALLED_APPS에 추가해 줘야 합니다."
   ]
  },
  {
   "cell_type": "code",
   "execution_count": 1,
   "metadata": {},
   "outputs": [],
   "source": [
    "## websaver/settings.py\n",
    "...\n",
    "INSTALLED_APPS = [\n",
    "    'django.contrib.admin',\n",
    "    'django.contrib.auth',\n",
    "    'django.contrib.contenttypes',\n",
    "    'django.contrib.sessions',\n",
    "    'django.contrib.messages',\n",
    "    'django.contrib.staticfiles',\n",
    "    'parsed_data', ## 앱을 추가해 줍시다.\n",
    "]\n",
    "..."
   ]
  },
  {
   "cell_type": "markdown",
   "metadata": {},
   "source": [
    "장고는 python manage.py migrate 라는 명령어로 DB를 migrate합니다\n",
    "\n",
    "python manage.py migrate\n",
    "\n",
    "위 명령어를 입력하면 Django에서 사용하는 기본적인 DB가 생성됩니다\n",
    "\n",
    "이제 DB구조를 관리해주는 Model을 만들어 줍시다.\n",
    "\n",
    "Django의 모델은 앱 단위로 만들어지고 구성됩니다. 고로 앞서 만들었던 parsed_data 앱안의 models.py 파일을 수정해 줘야 합니다.\n",
    "\n",
    "이 모델 파일은 크롤링해온 데이터를 필드별로 저장하는 것이 목적이므로, 크롤링한 데이터를 파이썬이 관리할 수 있는 객체로 만들어두는 것이 중요합니다.\n",
    "\n",
    "이번 가이드에서는 웹크롤러#1에서 만들었던 parser.py파일을 수정해 내용을 DB에 저장해 보겠습니다."
   ]
  },
  {
   "cell_type": "code",
   "execution_count": null,
   "metadata": {},
   "outputs": [],
   "source": [
    "## parsed_data/models.py\n",
    "from django.db import models\n",
    "\n",
    "\n",
    "class BlogData(models.Model):\n",
    "    title = models.CharField(max_length=200)\n",
    "    link = models.URLField()"
   ]
  }
 ],
 "metadata": {
  "kernelspec": {
   "display_name": "Python 3",
   "language": "python",
   "name": "python3"
  },
  "language_info": {
   "codemirror_mode": {
    "name": "ipython",
    "version": 3
   },
   "file_extension": ".py",
   "mimetype": "text/x-python",
   "name": "python",
   "nbconvert_exporter": "python",
   "pygments_lexer": "ipython3",
   "version": "3.7.1"
  }
 },
 "nbformat": 4,
 "nbformat_minor": 2
}
