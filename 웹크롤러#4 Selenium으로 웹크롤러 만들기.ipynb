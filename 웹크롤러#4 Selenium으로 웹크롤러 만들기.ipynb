{
 "cells": [
  {
   "cell_type": "markdown",
   "metadata": {},
   "source": [
    "Selenium은 웹 테스트 자동화 도구로서 브라우저를 직접 동작시키는 도구입니다.\n",
    "실제 웹 브라우저가 동작하기 때문에 JavaScript로 렌더링이 완료된 후의 DOM 결과물에 접근이 가능합니다. 이것은 request에서 사용했던 .text로는 안되던 기능이죠.\n",
    "\n",
    "pip install selenium으로 설치해줍시다.\n",
    "BeautifulSoup는 이미 깔려있을거구요\n",
    "\n",
    "다음 둘중 하나로 진행해봅시다. 이번엔 크롬으로 해보죠.\n",
    "1. Chrome Webdriver를 다운받고 압축을 풀어줍니다.\n",
    "https://sites.google.com/a/chrominum.org/chromedriver/downloads\n",
    "\n",
    "2. PhantomJS webdriver를 깔아줍시다.\n",
    "phantomjs.org/download.html\n",
    "\n",
    "마찬가지로 압축을 풀고 사용할 파일의 위치를 기억해 둡시다."
   ]
  },
  {
   "cell_type": "code",
   "execution_count": 5,
   "metadata": {},
   "outputs": [],
   "source": [
    "from selenium import webdriver\n",
    "\n",
    "driver=webdriver.Chrome('/home/aposty/Downloads/chromedriver')\n",
    "driver.implicitly_wait(3)\n",
    "##웹 자원 로드를 위해 3초까지 기다려줍니다.\n",
    "driver.get('https://google.com')"
   ]
  },
  {
   "cell_type": "markdown",
   "metadata": {},
   "source": [
    "이제 네이버로 로그인 해 봅시다."
   ]
  },
  {
   "cell_type": "code",
   "execution_count": 8,
   "metadata": {},
   "outputs": [],
   "source": [
    "driver=webdriver.Chrome('/home/aposty/Downloads/chromedriver')\n",
    "driver.implicitly_wait(3)\n",
    "\n",
    "driver.get('https://nid.naver.com/nidlogin.login')\n",
    "driver.implicitly_wait(3)\n",
    "#아이디 비번을 입력해줍시다\n",
    "driver.find_element_by_name('id').send_keys('orleanroland')\n",
    "driver.implicitly_wait(3) #중간중간 기다려줘야 봇으로 인식되지 않습니다.\n",
    "driver.find_element_by_name('pw').send_keys('!9402156Dhy')\n",
    "driver.implicitly_wait(3) \n",
    "##로그인 버튼을 눌러줍니다.\n",
    "driver.find_element_by_xpath('//*[@id=\"frmNIDLogin\"]/fieldset/input').click()"
   ]
  },
  {
   "cell_type": "markdown",
   "metadata": {},
   "source": [
    "이런식으로 필요에 따라 Selenium으로 웹크롤링을 하는 것이 가능합니다.\n",
    "또한 BeautifulSoup도 사용이 가능하기에 크롤링의 제약이 줄어듭니다."
   ]
  },
  {
   "cell_type": "code",
   "execution_count": 11,
   "metadata": {},
   "outputs": [
    {
     "name": "stdout",
     "output_type": "stream",
     "text": [
      "같지만 다른 은행\n",
      "카카오뱅크\n",
      "모바일로 더 손쉬운\n",
      "계좌개설, 간편한 이체\n",
      "해외계좌송금과\n",
      "WU빠른해외송금을\n",
      "더 쉽고, 저렴하게\n",
      "우대조건 없이\n",
      "합리적인 예금과 적금\n",
      "복잡한 서류 제출을 간편하게, 내가 원하는 시간에\n",
      "프렌즈 체크카드,\n",
      "내가 고르는 선택의 즐거움\n",
      "IT 기술로 카카오뱅크를\n",
      "만들어 갑니다.\n"
     ]
    }
   ],
   "source": [
    "from selenium import webdriver\n",
    "\n",
    "driver = webdriver.Chrome('/home/aposty/Downloads/chromedriver')\n",
    "\n",
    "# driver를 만든 후 implicitly_wait 값(초단위)을 넣어주세요.\n",
    "driver.implicitly_wait(3)\n",
    "\n",
    "driver.get('https://www.kakaobank.com/')\n",
    "\n",
    "# 하나만 찾기\n",
    "title = driver.find_element_by_css_selector('div.intro_main > h3')\n",
    "# 여러개 찾기\n",
    "small_titles = driver.find_elements_by_css_selector('div.cont_txt > h3')\n",
    "\n",
    "print(title.text)\n",
    "\n",
    "for t in small_titles:\n",
    "    print(t.text)\n",
    "\n",
    "driver.quit()"
   ]
  },
  {
   "cell_type": "code",
   "execution_count": 13,
   "metadata": {},
   "outputs": [
    {
     "name": "stdout",
     "output_type": "stream",
     "text": [
      "같지만 다른 은행\n",
      "카카오뱅크\n"
     ]
    }
   ],
   "source": [
    "from selenium import webdriver\n",
    "# 아래 코드들을 import 해 줍시다.\n",
    "from selenium.webdriver.common.by import By\n",
    "# WebDriverWait는 Selenium 2.4.0 이후 부터 사용 가능합니다.\n",
    "from selenium.webdriver.support.ui import WebDriverWait\n",
    "# expected_conditions는 Selenium 2.26.0 이후 부터 사용 가능합니다.\n",
    "from selenium.webdriver.support import expected_conditions as EC\n",
    "\n",
    "driver = webdriver.Chrome('/home/aposty/Downloads/chromedriver')\n",
    "\n",
    "driver.get('https://www.kakaobank.com/')\n",
    "\n",
    "try:\n",
    "    # WebDriverWait와 .until 옵션을 통해 우리가 찾고자 하는 HTML 요소를\n",
    "    # 기다려 줄 수 있습니다.\n",
    "    title = WebDriverWait(driver, 10) \\\n",
    "        .until(EC.presence_of_element_located((By.CSS_SELECTOR, \"div.intro_main > h3\")))\n",
    "    print(title.text)\n",
    "finally:\n",
    "    driver.quit()"
   ]
  },
  {
   "cell_type": "code",
   "execution_count": null,
   "metadata": {},
   "outputs": [],
   "source": []
  }
 ],
 "metadata": {
  "kernelspec": {
   "display_name": "Python 3",
   "language": "python",
   "name": "python3"
  },
  "language_info": {
   "codemirror_mode": {
    "name": "ipython",
    "version": 3
   },
   "file_extension": ".py",
   "mimetype": "text/x-python",
   "name": "python",
   "nbconvert_exporter": "python",
   "pygments_lexer": "ipython3",
   "version": "3.7.1"
  }
 },
 "nbformat": 4,
 "nbformat_minor": 2
}
